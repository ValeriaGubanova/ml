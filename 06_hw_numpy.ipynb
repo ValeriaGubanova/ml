{
  "cells": [
    {
      "cell_type": "markdown",
      "metadata": {
        "id": "view-in-github",
        "colab_type": "text"
      },
      "source": [
        "<a href=\"https://colab.research.google.com/github/ValeriaGubanova/ml/blob/main/06_hw_numpy.ipynb\" target=\"_parent\"><img src=\"https://colab.research.google.com/assets/colab-badge.svg\" alt=\"Open In Colab\"/></a>"
      ]
    },
    {
      "cell_type": "markdown",
      "metadata": {
        "id": "gvZLt3YabRsx"
      },
      "source": [
        "# Worshop 2.1 Numpy\n",
        "\n",
        "1. Скачайте этот ноутбук к себе.\n",
        "2. Заполните пропущенные ячейки, отвечая на заданные вопросы. Там должен быть код! (если не сказано обратное)\n",
        "3. Сохраните результат в своём гитхаб репозитории.\n",
        "\n",
        "#### Полезная литература\n",
        "\n",
        "- http://www.numpy.org/\n",
        "- https://jakevdp.github.io/PythonDataScienceHandbook/02.00-introduction-to-numpy.html\n",
        "- https://docs.scipy.org/doc/numpy/user/quickstart.html"
      ]
    },
    {
      "cell_type": "markdown",
      "metadata": {
        "id": "nwq-zLxQbRtA"
      },
      "source": [
        "1) Импортировать numpy и написать версию"
      ]
    },
    {
      "cell_type": "code",
      "execution_count": 2,
      "metadata": {
        "id": "aAxdakVkbRtB",
        "colab": {
          "base_uri": "https://localhost:8080/"
        },
        "outputId": "f31be32c-b788-4414-ef3b-30362741095f"
      },
      "outputs": [
        {
          "output_type": "stream",
          "name": "stdout",
          "text": [
            "1.21.6\n"
          ]
        }
      ],
      "source": [
        "import numpy as np\n",
        "print(np.__version__)"
      ]
    },
    {
      "cell_type": "markdown",
      "metadata": {
        "id": "mxDcQ5RVbRtC"
      },
      "source": [
        "2) Создать нулевой вектор размера 10"
      ]
    },
    {
      "cell_type": "code",
      "execution_count": null,
      "metadata": {
        "colab": {
          "base_uri": "https://localhost:8080/"
        },
        "id": "8n1kMiY1bRtC",
        "outputId": "ea1a2ad9-5b44-4017-c8ae-31f090c2b512"
      },
      "outputs": [
        {
          "output_type": "execute_result",
          "data": {
            "text/plain": [
              "array([0., 0., 0., 0., 0., 0., 0., 0., 0., 0.])"
            ]
          },
          "metadata": {},
          "execution_count": 5
        }
      ],
      "source": [
        "np.zeros(10)"
      ]
    },
    {
      "cell_type": "markdown",
      "metadata": {
        "id": "Wc-90QuBbRtC"
      },
      "source": [
        "3) Создать вектор заполненный 7-ами размера 7"
      ]
    },
    {
      "cell_type": "code",
      "execution_count": null,
      "metadata": {
        "colab": {
          "base_uri": "https://localhost:8080/"
        },
        "id": "UYjokKAEbRtD",
        "outputId": "ec5175f0-a979-453a-b9bf-65a9ad330f73"
      },
      "outputs": [
        {
          "output_type": "execute_result",
          "data": {
            "text/plain": [
              "array([7., 7., 7., 7., 7., 7., 7.])"
            ]
          },
          "metadata": {},
          "execution_count": 6
        }
      ],
      "source": [
        "np.linspace(7, 7, 7)"
      ]
    },
    {
      "cell_type": "markdown",
      "metadata": {
        "id": "kFL7RegmbRtD"
      },
      "source": [
        "4) Создать вектор заполненный четными числами от 10 до 100"
      ]
    },
    {
      "cell_type": "code",
      "execution_count": null,
      "metadata": {
        "colab": {
          "base_uri": "https://localhost:8080/"
        },
        "id": "hay21AdQbRtE",
        "outputId": "75e16627-6656-4490-cf41-8c2d298e4049"
      },
      "outputs": [
        {
          "output_type": "execute_result",
          "data": {
            "text/plain": [
              "array([10, 12, 14, 16, 18, 20, 22, 24, 26, 28, 30, 32, 34, 36, 38, 40, 42,\n",
              "       44, 46, 48, 50, 52, 54, 56, 58, 60, 62, 64, 66, 68, 70, 72, 74, 76,\n",
              "       78, 80, 82, 84, 86, 88, 90, 92, 94, 96, 98])"
            ]
          },
          "metadata": {},
          "execution_count": 7
        }
      ],
      "source": [
        "np.arange(10,100,2)"
      ]
    },
    {
      "cell_type": "markdown",
      "metadata": {
        "id": "sixStYpWbRtE"
      },
      "source": [
        "5) Создать массив случайных чисел и развернуть его задом наперёд"
      ]
    },
    {
      "cell_type": "code",
      "execution_count": null,
      "metadata": {
        "colab": {
          "base_uri": "https://localhost:8080/"
        },
        "id": "KYY8axdEbRtE",
        "outputId": "da7a3403-002a-4aaa-b6ab-f5f80145a102"
      },
      "outputs": [
        {
          "output_type": "execute_result",
          "data": {
            "text/plain": [
              "array([ 0.87427585, -1.63204675, -2.22024652,  0.24001223, -0.4471709 ])"
            ]
          },
          "metadata": {},
          "execution_count": 8
        }
      ],
      "source": [
        "np.flip(np.random.randn(5))"
      ]
    },
    {
      "cell_type": "markdown",
      "metadata": {
        "id": "-AkV4QdRbRtF"
      },
      "source": [
        "6) Создать двумерную матрицу размера 3 на 3, заполненную числами от 0 до 9"
      ]
    },
    {
      "cell_type": "code",
      "execution_count": null,
      "metadata": {
        "colab": {
          "base_uri": "https://localhost:8080/"
        },
        "id": "xTKth23cbRtF",
        "outputId": "fab3c814-861f-4faa-eb35-3f06bf311155"
      },
      "outputs": [
        {
          "output_type": "execute_result",
          "data": {
            "text/plain": [
              "array([[0, 1, 2],\n",
              "       [3, 4, 5],\n",
              "       [6, 7, 8]])"
            ]
          },
          "metadata": {},
          "execution_count": 9
        }
      ],
      "source": [
        "np.arange(0, 9, 1).reshape((3, 3))"
      ]
    },
    {
      "cell_type": "markdown",
      "metadata": {
        "id": "RpokTy8MbRtF"
      },
      "source": [
        "7) Создать матрицу размера 4 на 4 с единицами на диагонали смещеной на один наверх."
      ]
    },
    {
      "cell_type": "code",
      "execution_count": null,
      "metadata": {
        "colab": {
          "base_uri": "https://localhost:8080/"
        },
        "id": "nUyUbaM5bRtG",
        "outputId": "b7520d8a-6270-4aea-e01c-bf434056f132"
      },
      "outputs": [
        {
          "output_type": "execute_result",
          "data": {
            "text/plain": [
              "array([[0., 1., 0., 0.],\n",
              "       [0., 0., 1., 0.],\n",
              "       [0., 0., 0., 1.],\n",
              "       [0., 0., 0., 0.]])"
            ]
          },
          "metadata": {},
          "execution_count": 10
        }
      ],
      "source": [
        "np.eye(4, k=1)"
      ]
    },
    {
      "cell_type": "markdown",
      "metadata": {
        "id": "GJdzrLWKbRtG"
      },
      "source": [
        "8) Создать матрицу с числами в диапазоне от 1 до 4 по диагонали. В других ячейках матрицы должны быть семерки."
      ]
    },
    {
      "cell_type": "code",
      "execution_count": null,
      "metadata": {
        "id": "I3UkQH8kbRtH",
        "colab": {
          "base_uri": "https://localhost:8080/"
        },
        "outputId": "30041e73-5ee8-42cf-8494-0d828d26cb44"
      },
      "outputs": [
        {
          "output_type": "stream",
          "name": "stdout",
          "text": [
            "[[1 7 7 7]\n",
            " [7 2 7 7]\n",
            " [7 7 3 7]\n",
            " [7 7 7 4]]\n"
          ]
        }
      ],
      "source": [
        "array = np.diag(np.arange(1, 5), k=0)\n",
        "array[array == 0 ] = 7\n",
        "print(array)"
      ]
    },
    {
      "cell_type": "markdown",
      "metadata": {
        "id": "rMSva15pbRtH"
      },
      "source": [
        "9) Создать матрицу размера 5 на 5 заполненную чилами от 0 до 4 в строках."
      ]
    },
    {
      "cell_type": "code",
      "execution_count": null,
      "metadata": {
        "id": "PZYDulshbRtH",
        "colab": {
          "base_uri": "https://localhost:8080/"
        },
        "outputId": "da1a4808-dfa4-4338-ceec-f2444f39dc9d"
      },
      "outputs": [
        {
          "output_type": "execute_result",
          "data": {
            "text/plain": [
              "array([[0, 1, 2, 3, 4],\n",
              "       [0, 1, 2, 3, 4],\n",
              "       [0, 1, 2, 3, 4],\n",
              "       [0, 1, 2, 3, 4],\n",
              "       [0, 1, 2, 3, 4]])"
            ]
          },
          "metadata": {},
          "execution_count": 12
        }
      ],
      "source": [
        "np.tile(np.arange(0,5,1),5).reshape(5,5)"
      ]
    },
    {
      "cell_type": "markdown",
      "metadata": {
        "id": "01pMWOW9bRtI"
      },
      "source": [
        "10) Создать матрицу случайных чисел размера 10 на 10 и отнять среднее по строкам из каждого элемента строки"
      ]
    },
    {
      "cell_type": "code",
      "execution_count": null,
      "metadata": {
        "id": "UMMjd-LpbRtI",
        "colab": {
          "base_uri": "https://localhost:8080/"
        },
        "outputId": "9387e83f-a2f2-464d-d7a1-0fb2db598589"
      },
      "outputs": [
        {
          "output_type": "stream",
          "name": "stdout",
          "text": [
            "[[ 0.05028039 -0.3464129  -0.48278162  0.40159857 -0.04921214  0.18311207\n",
            "  -0.48328738  0.27622799  0.37833194 -0.38363646]\n",
            " [ 0.10629285 -0.21453782 -0.23889827 -0.23696748  0.05562908  0.23432346\n",
            "  -0.10984611  0.18910045  0.36389583 -0.14855621]\n",
            " [-0.32209441 -0.51172927 -0.26135819  0.23027217  0.18727853  0.38030575\n",
            "   0.28246349 -0.49494604  0.32406406 -0.22717269]\n",
            " [ 0.32121856 -0.12273541 -0.08090038  0.26715378 -0.06622481  0.3719512\n",
            "  -0.4720566  -0.46235823  0.44058042 -0.23735181]\n",
            " [-0.33591536 -0.21207187 -0.43191232  0.28456206 -0.03895505  0.1259812\n",
            "   0.00638345  0.0824388  -0.32658983 -0.46555776]\n",
            " [ 0.23968858 -0.02483281  0.13081291 -0.50316085  0.17758404 -0.41865234\n",
            "   0.32648259 -0.03016549 -0.15161418 -0.20449116]\n",
            " [ 0.34861603  0.27136269  0.39607541 -0.01506811  0.06762675  0.44698084\n",
            "  -0.08039331  0.34320724 -0.18253287 -0.18030413]\n",
            " [ 0.25093375 -0.35888077  0.08313663  0.43477138 -0.08636452  0.46421555\n",
            "  -0.21064457 -0.01876993  0.44501095  0.22041096]\n",
            " [ 0.23398473  0.17432155 -0.12269815  0.24783271  0.38716182 -0.45943936\n",
            "   0.39408132 -0.4265629   0.31214222 -0.14729166]\n",
            " [-0.23118541  0.41069632  0.06453028  0.2401636  -0.44307186 -0.09511132\n",
            "  -0.51093211  0.3470424  -0.45683269  0.1207476 ]]\n"
          ]
        }
      ],
      "source": [
        "X = np.random.random((10,10))\n",
        "Y = X - X.mean()\n",
        "print(Y)"
      ]
    },
    {
      "cell_type": "markdown",
      "metadata": {
        "id": "r31aMPOXbRtI"
      },
      "source": [
        "11) Создать матрицу случайных чисел размера 10 на 10 и отнять медиану по столбцам из каждого элемента столбца  "
      ]
    },
    {
      "cell_type": "code",
      "execution_count": 3,
      "metadata": {
        "id": "7a3rvJgAbRtJ",
        "colab": {
          "base_uri": "https://localhost:8080/"
        },
        "outputId": "18b4b426-e6a1-4482-80a4-a9edc18dfc64"
      },
      "outputs": [
        {
          "output_type": "execute_result",
          "data": {
            "text/plain": [
              "array([[-4., -2., -4.,  0.,  0., -1.,  4.,  2.,  4.,  3.],\n",
              "       [-1.,  0.,  0., -2., -3.,  3., -4.,  4., -4., -1.],\n",
              "       [-3., -3.,  3., -2., -2., -2.,  4.,  1., -1.,  1.],\n",
              "       [ 0.,  4.,  3., -3.,  4., -2., -4.,  4., -3.,  1.],\n",
              "       [-1., -3., -2., -3.,  1.,  0., -4.,  2., -2., -2.],\n",
              "       [-2.,  1., -4., -4.,  4., -4.,  0.,  0., -2., -2.],\n",
              "       [ 1., -4.,  4., -3.,  0., -2.,  0., -4., -4.,  3.],\n",
              "       [ 4.,  2.,  2.,  3.,  4.,  1.,  1.,  3., -2.,  0.],\n",
              "       [ 4., -3., -4., -1., -3.,  2.,  1.,  0.,  0.,  3.],\n",
              "       [ 4.,  2., -4., -2., -1., -2.,  3.,  1.,  3.,  0.]])"
            ]
          },
          "metadata": {},
          "execution_count": 3
        }
      ],
      "source": [
        "arr = np.random.randint(9, size = (10,10))\n",
        "arr - np.median(arr)"
      ]
    },
    {
      "cell_type": "markdown",
      "metadata": {
        "id": "j6H8C9lybRtJ"
      },
      "source": [
        "12) Создать матрицу случайных чисел 5x5. Добавить к ней столбецы максимумов и минимумов по строкам. Получится матрица 5x7.  "
      ]
    },
    {
      "cell_type": "code",
      "execution_count": null,
      "metadata": {
        "id": "WfquZXI1bRtK",
        "colab": {
          "base_uri": "https://localhost:8080/"
        },
        "outputId": "19f89bd1-c9b9-4330-efa7-b5f964be2861"
      },
      "outputs": [
        {
          "output_type": "execute_result",
          "data": {
            "text/plain": [
              "array([[7, 7, 0, 3, 5, 7, 0],\n",
              "       [5, 6, 2, 1, 2, 6, 1],\n",
              "       [7, 2, 5, 0, 8, 8, 0],\n",
              "       [7, 2, 3, 2, 8, 8, 2],\n",
              "       [3, 5, 5, 3, 3, 5, 3]])"
            ]
          },
          "metadata": {},
          "execution_count": 7
        }
      ],
      "source": [
        "arr = np.random.randint(9, size = (5,5))\n",
        "max = np.amax(arr, axis = 1, keepdims = True)\n",
        "min = np.amin(arr, axis = 1, keepdims = True)\n",
        "np.concatenate((arr, max, min), axis = 1)"
      ]
    },
    {
      "cell_type": "markdown",
      "metadata": {
        "id": "tAuH9PvWbRtK"
      },
      "source": [
        "13) Вектор чисел от 1 до 51 преобразовать в вектор нечетных чисел и в вектор четных чисел, поменять их размерности, чтобы получились две матрица. Найти произведение этих матриц. Найти обратную матрицу эётого произведения.  "
      ]
    },
    {
      "cell_type": "code",
      "execution_count": null,
      "metadata": {
        "id": "8gUTzWLvbRtK",
        "colab": {
          "base_uri": "https://localhost:8080/"
        },
        "outputId": "6164a160-3a48-4444-ca62-45d94bb307c5"
      },
      "outputs": [
        {
          "output_type": "stream",
          "name": "stdout",
          "text": [
            "[[ 750  800  850  900  950]\n",
            " [1850 2000 2150 2300 2450]\n",
            " [2950 3200 3450 3700 3950]\n",
            " [4050 4400 4750 5100 5450]\n",
            " [5150 5600 6050 6500 6950]]\n"
          ]
        }
      ],
      "source": [
        "arr = np.arange(1, 51)\n",
        "odds = arr[::2].reshape(5,5)\n",
        "arr = np.arange(2,51)\n",
        "evens = arr[::2].reshape(5,5)\n",
        "mul = np.matmul(odds, evens)\n",
        "print(mul)"
      ]
    },
    {
      "cell_type": "markdown",
      "metadata": {
        "id": "WXP_4iBfbRtK"
      },
      "source": [
        "14) Создать 8x8 матрицу и заполнить её в шахматном порядке нулями и единицами. "
      ]
    },
    {
      "cell_type": "code",
      "execution_count": null,
      "metadata": {
        "id": "zF8UWBQwbRtK",
        "colab": {
          "base_uri": "https://localhost:8080/"
        },
        "outputId": "3fc35618-1558-433f-ed6c-a7737d27514c"
      },
      "outputs": [
        {
          "output_type": "stream",
          "name": "stdout",
          "text": [
            "[[0 1 0 1 0 1 0 1]\n",
            " [1 0 1 0 1 0 1 0]\n",
            " [0 1 0 1 0 1 0 1]\n",
            " [1 0 1 0 1 0 1 0]\n",
            " [0 1 0 1 0 1 0 1]\n",
            " [1 0 1 0 1 0 1 0]\n",
            " [0 1 0 1 0 1 0 1]\n",
            " [1 0 1 0 1 0 1 0]]\n"
          ]
        }
      ],
      "source": [
        "Z = np.zeros((8,8), dtype=int)\n",
        "Z[1::2,::2] = 1\n",
        "Z[::2,1::2] = 1\n",
        "print(Z)"
      ]
    }
  ],
  "metadata": {
    "kernelspec": {
      "display_name": "Python 3",
      "language": "python",
      "name": "python3"
    },
    "language_info": {
      "codemirror_mode": {
        "name": "ipython",
        "version": 3
      },
      "file_extension": ".py",
      "mimetype": "text/x-python",
      "name": "python",
      "nbconvert_exporter": "python",
      "pygments_lexer": "ipython3",
      "version": "3.8.0"
    },
    "colab": {
      "provenance": [],
      "toc_visible": true,
      "include_colab_link": true
    }
  },
  "nbformat": 4,
  "nbformat_minor": 0
}